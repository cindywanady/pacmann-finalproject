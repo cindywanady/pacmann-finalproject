{
 "cells": [
  {
   "cell_type": "code",
   "execution_count": 2,
   "id": "5bc88531",
   "metadata": {},
   "outputs": [],
   "source": [
    "from tabulate import tabulate\n",
    "\n",
    "class Transaction:\n",
    "    def __init__(self):\n",
    "        self.items = []\n",
    "\n",
    "    def add_item(self, nama_item, jumlah_item, harga_per_item):\n",
    "        if not isinstance(jumlah_item, (int, float)) or not isinstance(harga_per_item, (int, float)):\n",
    "            print('Item quantity and price must be numeric values.')\n",
    "            return\n",
    "        if jumlah_item <= 0 or harga_per_item <= 0 :\n",
    "            print('Item quantity and price must be positive numbers.')\n",
    "            return\n",
    "        item = {\n",
    "            'nama_item': nama_item,\n",
    "            'jumlah_item': jumlah_item,\n",
    "            'harga_per_item': harga_per_item,\n",
    "            'total_harga': jumlah_item*harga_per_item,\n",
    "        }\n",
    "        self.items.append(item)\n",
    "\n",
    "\n",
    "    def update_item_name(self, old_name, name_update):\n",
    "        for item in self.items:\n",
    "            if item['nama_item'] == old_name:\n",
    "                item['nama_item'] = name_update\n",
    "    def update_item_qty(self, nama_item, qty_update):\n",
    "        for item in self.items:\n",
    "            if item['nama_item'] == nama_item:\n",
    "                item['jumlah_item'] = qty_update\n",
    "\n",
    "    def update_item_price(self, nama_item,price_update):\n",
    "        for item in self.items:\n",
    "            if item['nama_item'] == nama_item:\n",
    "                item['harga_per_item'] = price_update\n",
    "    def reset_transaction(self):\n",
    "        self.items =[]\n",
    "        print('Semua Item Berhasil di Delete')\n",
    "    def delete_item(self, nama_item):\n",
    "        self.items = [item for item in self.items if item['nama_item'] != nama_item]\n",
    "        print (self.items)\n",
    "    def check_order(self):      \n",
    "        headers = ['Item', 'Jumlah Item', 'Harga/item', 'Harga total']\n",
    "        item_data = ([item['nama_item'], item['jumlah_item'],item['harga_per_item'],item['total_harga']] for item in self.items)\n",
    "        print(tabulate(item_data, headers=headers, tablefmt=''))\n",
    "        for item in self.items:\n",
    "            if not all (item.values()):\n",
    "                return 'Terdapat kesalahan input data'        \n",
    "        return 'Pemesanan sudah benar'\n",
    "    def total_price(self):      \n",
    "        for item in self.items:\n",
    "            total_all_item=sum(item['total_harga']for item in self.items)\n",
    "        disc=0\n",
    "        if total_all_item>500000:\n",
    "            disc=0.1\n",
    "        elif total_all_item>300000:\n",
    "            disc=0.08\n",
    "        elif total_all_item>200000:\n",
    "            disc=0.05\n",
    "        total_paid=(1-disc)*total_all_item\n",
    "        item_summary = {}\n",
    "        for item in self.items:\n",
    "            item_summary [item['nama_item']] = [item['jumlah_item'],item['harga_per_item']]\n",
    "        print(f\"Item yang dibeli adalah: {item_summary}\")\n",
    "        print(f\"Total Price: IDR {'{:,.0f}'.format(total_paid)}\")\n",
    "            \n",
    " \n",
    "    \n",
    "\n",
    "    "
   ]
  },
  {
   "cell_type": "code",
   "execution_count": 3,
   "id": "fb2bdc56",
   "metadata": {},
   "outputs": [],
   "source": [
    "trnsct_123 = Transaction()"
   ]
  },
  {
   "cell_type": "code",
   "execution_count": 5,
   "id": "89c106b0",
   "metadata": {},
   "outputs": [],
   "source": [
    "#Test 1\n",
    "trnsct_123.add_item('Ayam Goreng',2,20000)\n",
    "trnsct_123.add_item('Pasta Gigi',3,15000)"
   ]
  },
  {
   "cell_type": "code",
   "execution_count": 714,
   "id": "0298da3d",
   "metadata": {},
   "outputs": [
    {
     "name": "stdout",
     "output_type": "stream",
     "text": [
      "[{'nama_item': 'Ayam Goreng', 'jumlah_item': 2, 'harga_per_item': 20000, 'total_harga': 40000}]\n"
     ]
    }
   ],
   "source": [
    "#Test 2\n",
    "trnsct_123.delete_item('Pasta Gigi')"
   ]
  },
  {
   "cell_type": "code",
   "execution_count": 6,
   "id": "fabac145",
   "metadata": {},
   "outputs": [
    {
     "name": "stdout",
     "output_type": "stream",
     "text": [
      "Semua Item Berhasil di Delete\n"
     ]
    }
   ],
   "source": [
    "#Test 3\n",
    "trnsct_123.reset_transaction()"
   ]
  },
  {
   "cell_type": "code",
   "execution_count": 7,
   "id": "59fce6f3",
   "metadata": {},
   "outputs": [
    {
     "name": "stdout",
     "output_type": "stream",
     "text": [
      "Item yang dibeli adalah: {'Ayam Goreng': [2, 20000], 'Pasta Gigi': [3, 15000], 'Mainan Mobil': [1, 200000], 'Mi Instan': [5, 3000]}\n",
      "Total Price: IDR 285,000\n"
     ]
    }
   ],
   "source": [
    "#Test 4\n",
    "trnsct_123.add_item('Ayam Goreng',2,20000)\n",
    "trnsct_123.add_item('Pasta Gigi',3,15000)\n",
    "trnsct_123.add_item('Mainan Mobil',1,200000)\n",
    "trnsct_123.add_item('Mi Instan',5,3000)\n",
    "trnsct_123.total_price()\n"
   ]
  },
  {
   "cell_type": "code",
   "execution_count": 9,
   "id": "72fbae4d",
   "metadata": {},
   "outputs": [
    {
     "name": "stdout",
     "output_type": "stream",
     "text": [
      "Item            Jumlah Item    Harga/item    Harga total\n",
      "------------  -------------  ------------  -------------\n",
      "Ayam Goreng               2         20000          40000\n",
      "Pasta Gigi                3         15000          45000\n",
      "Mainan Mobil              1        200000         200000\n",
      "Mi Instan                 5          3000          15000\n"
     ]
    },
    {
     "data": {
      "text/plain": [
       "'Pemesanan sudah benar'"
      ]
     },
     "execution_count": 9,
     "metadata": {},
     "output_type": "execute_result"
    }
   ],
   "source": [
    "#Test 5\n",
    "trnsct_123.check_order()"
   ]
  }
 ],
 "metadata": {
  "kernelspec": {
   "display_name": "Python 3 (ipykernel)",
   "language": "python",
   "name": "python3"
  },
  "language_info": {
   "codemirror_mode": {
    "name": "ipython",
    "version": 3
   },
   "file_extension": ".py",
   "mimetype": "text/x-python",
   "name": "python",
   "nbconvert_exporter": "python",
   "pygments_lexer": "ipython3",
   "version": "3.10.9"
  }
 },
 "nbformat": 4,
 "nbformat_minor": 5
}
